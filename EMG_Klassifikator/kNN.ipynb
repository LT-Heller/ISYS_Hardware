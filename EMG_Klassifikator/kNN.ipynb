{
 "cells": [
  {
   "cell_type": "code",
   "execution_count": 11,
   "metadata": {},
   "outputs": [
    {
     "name": "stdout",
     "output_type": "stream",
     "text": [
      "Done\n"
     ]
    }
   ],
   "source": [
    "import os\n",
    "import numpy as np\n",
    "\n",
    "import matplotlib.pyplot as plt\n",
    "from sklearn.model_selection import KFold\n",
    "from sklearn.neighbors import KNeighborsClassifier \n",
    "\n",
    "print(\"Done\")"
   ]
  },
  {
   "cell_type": "code",
   "execution_count": 12,
   "metadata": {},
   "outputs": [
    {
     "name": "stdout",
     "output_type": "stream",
     "text": [
      "[[-0.204736  0.057923  0.053333 ...  0.126667  0.22      0.      ]\n",
      " [-0.20357   0.061202  0.08     ...  0.153333  0.22      0.      ]\n",
      " [-0.20612   0.061275  0.053333 ...  0.153333  0.213333  0.      ]\n",
      " ...\n",
      " [-0.400073  0.032933  0.       ...  0.        0.1       1.      ]\n",
      " [-0.319344  0.034244  0.       ...  0.        0.066667  1.      ]\n",
      " [-0.189144  0.020692  0.       ...  0.        0.04      1.      ]]\n",
      "Done\n"
     ]
    }
   ],
   "source": [
    "# Load Data\n",
    "features = np.loadtxt(\"./features_nils.txt\", delimiter = \";\")\n",
    "print(features)\n",
    "print(\"Done\")"
   ]
  },
  {
   "cell_type": "code",
   "execution_count": 13,
   "metadata": {},
   "outputs": [
    {
     "name": "stdout",
     "output_type": "stream",
     "text": [
      "Done\n"
     ]
    }
   ],
   "source": [
    "X = np.array([x[0:16] for x in features if x[16:17]+1])\n",
    "y = np.array([int(x[16:17]) for x in features])\n",
    "print(\"Done\")"
   ]
  },
  {
   "cell_type": "code",
   "execution_count": 14,
   "metadata": {},
   "outputs": [],
   "source": [
    "neighbors = np.arange(1,5)"
   ]
  },
  {
   "cell_type": "code",
   "execution_count": 15,
   "metadata": {},
   "outputs": [
    {
     "name": "stdout",
     "output_type": "stream",
     "text": [
      "Done\n"
     ]
    }
   ],
   "source": [
    "kfold = KFold(n_splits=4, shuffle=False)\n",
    "fold_no = 1\n",
    "\n",
    "\n",
    "acc_per_fold = []\n",
    "print(\"Done\")"
   ]
  },
  {
   "cell_type": "code",
   "execution_count": 16,
   "metadata": {
    "tags": [
     "outputPrepend"
    ]
   },
   "outputs": [
    {
     "name": "stdout",
     "output_type": "stream",
     "text": [
      "------------------------------------------------------------------------\n",
      "Training for fold 1 ...\n",
      "value of i: 0 \tvalue of k: 1\n",
      "Test accuracy:  0.8592048619903773\n",
      "-------------\n",
      "value of i: 1 \tvalue of k: 2\n",
      "Test accuracy:  0.8703469232717144\n",
      "-------------\n",
      "value of i: 2 \tvalue of k: 3\n",
      "Test accuracy:  0.871866295264624\n",
      "-------------\n",
      "value of i: 3 \tvalue of k: 4\n",
      "Test accuracy:  0.8835148138769309\n",
      "-------------\n",
      "------------------------------------------------------------------------\n",
      "Training for fold 2 ...\n",
      "value of i: 0 \tvalue of k: 1\n",
      "Test accuracy:  0.8665484932894404\n",
      "-------------\n",
      "value of i: 1 \tvalue of k: 2\n",
      "Test accuracy:  0.852874145353254\n",
      "-------------\n",
      "value of i: 2 \tvalue of k: 3\n",
      "Test accuracy:  0.8822486705495062\n",
      "-------------\n",
      "value of i: 3 \tvalue of k: 4\n",
      "Test accuracy:  0.8726259812610787\n",
      "-------------\n",
      "------------------------------------------------------------------------\n",
      "Training for fold 3 ...\n",
      "value of i: 0 \tvalue of k: 1\n",
      "Test accuracy:  0.905798936439605\n",
      "-------------\n",
      "value of i: 1 \tvalue of k: 2\n",
      "Test accuracy:  0.8923778171689035\n",
      "-------------\n",
      "value of i: 2 \tvalue of k: 3\n",
      "Test accuracy:  0.9204861990377311\n",
      "-------------\n",
      "value of i: 3 \tvalue of k: 4\n",
      "Test accuracy:  0.9123828817422133\n",
      "-------------\n",
      "------------------------------------------------------------------------\n",
      "Training for fold 4 ...\n",
      "value of i: 0 \tvalue of k: 1\n",
      "Test accuracy:  0.9258040010129147\n",
      "-------------\n",
      "value of i: 1 \tvalue of k: 2\n",
      "Test accuracy:  0.9225120283616105\n",
      "-------------\n",
      "value of i: 2 \tvalue of k: 3\n",
      "Test accuracy:  0.9463155229171942\n",
      "-------------\n",
      "value of i: 3 \tvalue of k: 4\n",
      "Test accuracy:  0.9425170929349203\n",
      "-------------\n",
      "------------------------------------------------------------------------\n",
      "Score per fold\n",
      "------------------------------------------------------------------------\n",
      "> Fold 1 - Accuracy: 88.35148138769308%\n",
      "------------------------------------------------------------------------\n",
      "> Fold 2 - Accuracy: 87.26259812610787%\n",
      "------------------------------------------------------------------------\n",
      "> Fold 3 - Accuracy: 91.23828817422132%\n",
      "------------------------------------------------------------------------\n",
      "> Fold 4 - Accuracy: 94.25170929349203%\n",
      "------------------------------------------------------------------------\n",
      "Average scores for all folds:\n",
      "> Accuracy: 90.27601924537858 (+- 2.716460272938657)\n",
      "------------------------------------------------------------------------\n",
      "Done\n"
     ]
    }
   ],
   "source": [
    "for train, test in kfold.split(X, y):\n",
    "    # Generate a print\n",
    "    print('------------------------------------------------------------------------')\n",
    "    print(f'Training for fold {fold_no} ...')\n",
    "\n",
    "    train_accuracy = np.zeros(len(neighbors))\n",
    "    test_accuracy = np.zeros(len(neighbors))\n",
    "\n",
    "    # Loop over different values of k\n",
    "    for i, k in enumerate(neighbors):\n",
    "        \n",
    "        print(\"value of i:\", i, \"\\tvalue of k:\", k)\n",
    "        \n",
    "        # Setup a k-NN Classifier with k neighbors: knn\n",
    "        knn = KNeighborsClassifier(n_neighbors=k)\n",
    "\n",
    "        # Fit the classifier to the training data\n",
    "        knn.fit(X[train], y[train])\n",
    "        \n",
    "        # Compute accuracy on the training set\n",
    "        #train_accuracy[i] = knn.score(X[train], y[train])\n",
    "        #print(\"Training accuracy: \", train_accuracy[i])\n",
    "        \n",
    "        # Compute accuracy on the testing set\n",
    "        test_accuracy[i] = knn.score(X[test], y[test])\n",
    "        print(\"Test accuracy: \", test_accuracy[i])\n",
    "        print(\"-------------\")\n",
    "    \n",
    "    acc_per_fold.append(test_accuracy[i] * 100)\n",
    "    fold_no = fold_no + 1\n",
    "\n",
    "\n",
    "# == Provide average scores ==\n",
    "print('------------------------------------------------------------------------')\n",
    "print('Score per fold')\n",
    "for i in range(0, len(acc_per_fold)):\n",
    "  print('------------------------------------------------------------------------')\n",
    "  print(f'> Fold {i+1} - Accuracy: {acc_per_fold[i]}%')\n",
    "print('------------------------------------------------------------------------')\n",
    "print('Average scores for all folds:')\n",
    "print(f'> Accuracy: {np.mean(acc_per_fold)} (+- {np.std(acc_per_fold)})')\n",
    "print('------------------------------------------------------------------------')\n",
    "print(\"Done\")"
   ]
  },
  {
   "cell_type": "code",
   "execution_count": null,
   "metadata": {
    "tags": []
   },
   "outputs": [],
   "source": [
    "#print(f\"k = {np.argmax(train_accuracy, axis=0)} provides the best Training accuracy at: {np.amax(train_accuracy)}\")\n",
    "print(f\"k = {np.argmax(test_accuracy, axis=0)} provides the best Testing accuracy at: {np.amax(test_accuracy)}\")\n",
    "print(\"Done\")"
   ]
  },
  {
   "cell_type": "code",
   "execution_count": null,
   "metadata": {},
   "outputs": [],
   "source": [
    "# Generate plot\n",
    "plt.title('k-NN: Varying Number of Neighbors')\n",
    "#plt.plot(neighbors, train_accuracy, label = 'Training Accuracy')\n",
    "plt.plot(neighbors, test_accuracy, label = 'Testing Accuracy')\n",
    "plt.legend()\n",
    "plt.xlabel('Number of Neighbors')\n",
    "plt.ylabel('Accuracy')\n",
    "plt.show()"
   ]
  }
 ],
 "metadata": {
  "kernelspec": {
   "display_name": "Python 3",
   "language": "python",
   "name": "python3"
  },
  "language_info": {
   "codemirror_mode": {
    "name": "ipython",
    "version": 3
   },
   "file_extension": ".py",
   "mimetype": "text/x-python",
   "name": "python",
   "nbconvert_exporter": "python",
   "pygments_lexer": "ipython3",
   "version": "3.8.12"
  }
 },
 "nbformat": 4,
 "nbformat_minor": 4
}
