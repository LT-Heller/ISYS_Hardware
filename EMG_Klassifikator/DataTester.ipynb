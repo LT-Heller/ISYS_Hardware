{
 "cells": [
  {
   "cell_type": "code",
   "execution_count": 1,
   "metadata": {},
   "outputs": [],
   "source": [
    "import os\n",
    "import numpy as np\n",
    "import matplotlib.pyplot as plt\n",
    "\n",
    "import tensorflow as tf\n",
    "from tensorflow.keras.utils import to_categorical\n",
    "from tensorflow.keras.layers import *\n",
    "from tensorflow.keras.activations import *\n",
    "from tensorflow.keras.models import *\n",
    "from tensorflow.keras.optimizers import *\n",
    "from tensorflow.keras.initializers import *\n",
    "from tensorflow.keras.callbacks import TensorBoard, ModelCheckpoint\n",
    "\n",
    "import time\n",
    "from sklearn.model_selection import KFold"
   ]
  },
  {
   "cell_type": "code",
   "execution_count": 2,
   "metadata": {},
   "outputs": [],
   "source": [
    "# Model params\n",
    "NAME = f\"MLP-at{int(time.time())}\"\n",
    "lr = 0.001\n",
    "optimizer = Adam(lr=lr)\n",
    "EPOCHS = 600\n",
    "BATCH_SIZE = 1054\n",
    "\n",
    "# Dataset Variables\n",
    "num_features = 16\n",
    "num_classes = 3"
   ]
  },
  {
   "cell_type": "code",
   "execution_count": 3,
   "metadata": {},
   "outputs": [],
   "source": [
    "def create_model():\n",
    "    model = Sequential()\n",
    "\n",
    "    model.add(Dense(units=15, kernel_initializer=\"uniform\", bias_initializer=\"zeros\", input_shape=[16], activation=\"relu\"))\n",
    "\n",
    "    model.add(Dense(units=num_classes, kernel_initializer=\"uniform\", bias_initializer=\"zeros\", activation=\"softmax\"))\n",
    "\n",
    "    model.compile(\n",
    "    loss=\"sparse_categorical_crossentropy\",\n",
    "    optimizer=optimizer,\n",
    "    metrics=[\"accuracy\"])\n",
    "\n",
    "    return model"
   ]
  },
  {
   "cell_type": "code",
   "execution_count": 4,
   "metadata": {},
   "outputs": [
    {
     "name": "stdout",
     "output_type": "stream",
     "text": [
      "Model: \"sequential\"\n",
      "_________________________________________________________________\n",
      "Layer (type)                 Output Shape              Param #   \n",
      "=================================================================\n",
      "dense (Dense)                (None, 15)                255       \n",
      "_________________________________________________________________\n",
      "dense_1 (Dense)              (None, 3)                 48        \n",
      "=================================================================\n",
      "Total params: 303\n",
      "Trainable params: 303\n",
      "Non-trainable params: 0\n",
      "_________________________________________________________________\n"
     ]
    }
   ],
   "source": [
    "model = create_model()\n",
    "model.summary()"
   ]
  },
  {
   "cell_type": "code",
   "execution_count": 5,
   "metadata": {},
   "outputs": [],
   "source": [
    "model.load_weights(\"models/weights-599-0.0961.hdf5\")"
   ]
  },
  {
   "cell_type": "code",
   "execution_count": 8,
   "metadata": {},
   "outputs": [
    {
     "name": "stdout",
     "output_type": "stream",
     "text": [
      "[-0.204736  0.057923  0.053333  0.266667  0.214883  0.115637  0.106667\n",
      "  0.273333 -0.120505  0.09899   0.146667  0.273333  0.169214  0.143306\n",
      "  0.126667  0.22    ] 0\n"
     ]
    }
   ],
   "source": [
    "# Load Data\n",
    "features = np.loadtxt(\"./features_nils.txt\", delimiter=';')\n",
    "\n",
    "X = np.array([x[0:16] for x in features])\n",
    "y = np.array([int(x[16])for x in features])\n",
    "print(X[0], y[0])"
   ]
  },
  {
   "cell_type": "code",
   "execution_count": 9,
   "metadata": {},
   "outputs": [
    {
     "name": "stdout",
     "output_type": "stream",
     "text": [
      "494/494 [==============================] - 0s 319us/step - loss: 3.5238 - accuracy: 0.4931\n",
      "Restored model, accuracy:                                                   49.31%\n"
     ]
    }
   ],
   "source": [
    "loss, acc = model.evaluate(X, y)\n",
    "print(\"Restored model, accuracy: {:55.2f}%\".format(100 * acc))"
   ]
  }
 ],
 "metadata": {
  "interpreter": {
   "hash": "db1be63f2bb6036e8e5c3d621147f4f5c0b0d763d92a55c8c1621e0221927332"
  },
  "kernelspec": {
   "display_name": "Python 3.8.12 64-bit ('whs': conda)",
   "language": "python",
   "name": "python3"
  },
  "language_info": {
   "codemirror_mode": {
    "name": "ipython",
    "version": 3
   },
   "file_extension": ".py",
   "mimetype": "text/x-python",
   "name": "python",
   "nbconvert_exporter": "python",
   "pygments_lexer": "ipython3",
   "version": "3.7.11"
  },
  "orig_nbformat": 4
 },
 "nbformat": 4,
 "nbformat_minor": 2
}
